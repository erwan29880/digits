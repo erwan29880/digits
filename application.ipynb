{
 "cells": [
  {
   "cell_type": "markdown",
   "metadata": {},
   "source": [
    "# application "
   ]
  },
  {
   "cell_type": "code",
   "execution_count": 66,
   "metadata": {},
   "outputs": [],
   "source": [
    "import cv2\n",
    "import keras\n",
    "import numpy as np\n",
    "import random\n",
    "import os"
   ]
  },
  {
   "cell_type": "code",
   "execution_count": 68,
   "metadata": {},
   "outputs": [],
   "source": [
    "model = keras.models.load_model('model.h5')\n",
    "\n",
    "def traitement(path_image):\n",
    "\n",
    "    url = path_image\n",
    "    im_plot = cv2.imread(url,0)       # import photos en niveaux de gris --> 2d au lieu de 3d\n",
    "    im = im_plot.reshape(1, 28, 28)   # shape obligatoire pour la prédiction avec le modèle\n",
    "\n",
    "    return im, im_plot\n",
    "\n",
    "# charger les images créées pour effectuer les tests (dossier perso)\n",
    "\n",
    "liste_de_urls = []\n",
    "for dossier in os.listdir('./perso'):\n",
    "    path = './perso/'+ dossier\n",
    "    for fichier in os.listdir(path):\n",
    "        pat = './perso/'+ dossier + '/' + fichier\n",
    "        liste_de_urls.append(pat)"
   ]
  },
  {
   "cell_type": "code",
   "execution_count": 69,
   "metadata": {},
   "outputs": [
    {
     "name": "stdout",
     "output_type": "stream",
     "text": [
      "Prédiction : 6\n"
     ]
    },
    {
     "data": {
      "text/plain": [
       "<matplotlib.image.AxesImage at 0x7ff4a926c520>"
      ]
     },
     "execution_count": 69,
     "metadata": {},
     "output_type": "execute_result"
    },
    {
     "data": {
      "image/png": "[encoded data removed]",
      "text/plain": [
       "<Figure size 432x288 with 1 Axes>"
      ]
     },
     "metadata": {
      "needs_background": "light"
     },
     "output_type": "display_data"
    }
   ],
   "source": [
    "# choisir une image au hasard dans la liste d'url\n",
    "# effectuer la prédiction et afficher l'image\n",
    "url = random.choice(liste_de_urls)\n",
    "\n",
    "image, image_plot = traitement(url)\n",
    "pred = np.argmax(model.predict(image))\n",
    "print(f'Prédiction : {pred}')\n",
    "plt.imshow(image_plot, cmap='gray')"
   ]
  }
 ],
 "metadata": {
  "interpreter": {
   "hash": "c6e02ca7a437670a10875282d946227a1bbe7fb9f0c69f701c3e4a742e23c063"
  },
  "kernelspec": {
   "display_name": "Python 3.8.10 ('.env': venv)",
   "language": "python",
   "name": "python3"
  },
  "language_info": {
   "codemirror_mode": {
    "name": "ipython",
    "version": 3
   },
   "file_extension": ".py",
   "mimetype": "text/x-python",
   "name": "python",
   "nbconvert_exporter": "python",
   "pygments_lexer": "ipython3",
   "version": "3.8.10"
  },
  "orig_nbformat": 4
 },
 "nbformat": 4,
 "nbformat_minor": 2
}
